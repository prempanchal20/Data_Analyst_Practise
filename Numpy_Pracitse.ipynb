{
  "nbformat": 4,
  "nbformat_minor": 0,
  "metadata": {
    "colab": {
      "provenance": [],
      "authorship_tag": "ABX9TyPRE71jS3JYppkiiV843i4a",
      "include_colab_link": true
    },
    "kernelspec": {
      "name": "python3",
      "display_name": "Python 3"
    },
    "language_info": {
      "name": "python"
    }
  },
  "cells": [
    {
      "cell_type": "markdown",
      "metadata": {
        "id": "view-in-github",
        "colab_type": "text"
      },
      "source": [
        "<a href=\"https://colab.research.google.com/github/prempanchal20/Data_Analyst_Practise/blob/develop/Numpy_Pracitse.ipynb\" target=\"_parent\"><img src=\"https://colab.research.google.com/assets/colab-badge.svg\" alt=\"Open In Colab\"/></a>"
      ]
    },
    {
      "cell_type": "markdown",
      "source": [
        "**Numpy Practise**\n"
      ],
      "metadata": {
        "id": "KgDLyGjf5J06"
      }
    },
    {
      "cell_type": "code",
      "execution_count": null,
      "metadata": {
        "id": "F9S-QaMoX1Rq"
      },
      "outputs": [],
      "source": [
        "import numpy as np"
      ]
    },
    {
      "cell_type": "markdown",
      "source": [
        "**2D Array**"
      ],
      "metadata": {
        "id": "0cPkeWLLGwwx"
      }
    },
    {
      "cell_type": "code",
      "source": [
        "myArr = np.array([[3,4,8,6,7]], np.int8)\n",
        "myArr"
      ],
      "metadata": {
        "id": "OslifMEWY1Q6",
        "colab": {
          "base_uri": "https://localhost:8080/"
        },
        "outputId": "88dfca39-a465-456b-8d75-c488cf15e40f"
      },
      "execution_count": null,
      "outputs": [
        {
          "output_type": "execute_result",
          "data": {
            "text/plain": [
              "array([[3, 4, 8, 6, 7]], dtype=int8)"
            ]
          },
          "metadata": {},
          "execution_count": 23
        }
      ]
    },
    {
      "cell_type": "markdown",
      "source": [
        "**Indexing**"
      ],
      "metadata": {
        "id": "VR2CqzKLGI1a"
      }
    },
    {
      "cell_type": "code",
      "source": [
        "myArr[0]"
      ],
      "metadata": {
        "colab": {
          "base_uri": "https://localhost:8080/"
        },
        "id": "SAytcMEVFq_Q",
        "outputId": "2ed9ac3a-b3d3-40e1-f846-1b7557ab7e6d"
      },
      "execution_count": null,
      "outputs": [
        {
          "output_type": "execute_result",
          "data": {
            "text/plain": [
              "array([3, 4, 8, 6, 7], dtype=int8)"
            ]
          },
          "metadata": {},
          "execution_count": 24
        }
      ]
    },
    {
      "cell_type": "code",
      "source": [
        "myArr.shape"
      ],
      "metadata": {
        "colab": {
          "base_uri": "https://localhost:8080/"
        },
        "id": "FFRN-fiYGTh-",
        "outputId": "77934982-6e8a-4475-ca44-32bb9d00d2f0"
      },
      "execution_count": null,
      "outputs": [
        {
          "output_type": "execute_result",
          "data": {
            "text/plain": [
              "(1, 5)"
            ]
          },
          "metadata": {},
          "execution_count": 25
        }
      ]
    },
    {
      "cell_type": "code",
      "source": [
        "myArr.dtype"
      ],
      "metadata": {
        "colab": {
          "base_uri": "https://localhost:8080/"
        },
        "id": "LvoC0iKmHEMc",
        "outputId": "43235264-57f3-4543-8aca-7b168acb3121"
      },
      "execution_count": null,
      "outputs": [
        {
          "output_type": "execute_result",
          "data": {
            "text/plain": [
              "dtype('int8')"
            ]
          },
          "metadata": {},
          "execution_count": 26
        }
      ]
    },
    {
      "cell_type": "markdown",
      "source": [
        "**Array Creation: Conversion From other Python Structures**"
      ],
      "metadata": {
        "id": "KJKkL9PkIa4_"
      }
    },
    {
      "cell_type": "code",
      "source": [
        "listArray = np.array([[1,2,3],\n",
        "                      [4,5,6],\n",
        "                      [7,8,9]])\n",
        "\n",
        "listArray"
      ],
      "metadata": {
        "colab": {
          "base_uri": "https://localhost:8080/"
        },
        "id": "F549FumWInER",
        "outputId": "bfdd638f-6710-4386-c492-fcd8c15e872b"
      },
      "execution_count": null,
      "outputs": [
        {
          "output_type": "execute_result",
          "data": {
            "text/plain": [
              "array([[1, 2, 3],\n",
              "       [4, 5, 6],\n",
              "       [7, 8, 9]])"
            ]
          },
          "metadata": {},
          "execution_count": 27
        }
      ]
    },
    {
      "cell_type": "code",
      "source": [
        "listArray.dtype"
      ],
      "metadata": {
        "colab": {
          "base_uri": "https://localhost:8080/"
        },
        "id": "miqfSq2iIxpZ",
        "outputId": "516a7ae9-17a1-4fe2-aa10-2ece8aeb2ec4"
      },
      "execution_count": null,
      "outputs": [
        {
          "output_type": "execute_result",
          "data": {
            "text/plain": [
              "dtype('int64')"
            ]
          },
          "metadata": {},
          "execution_count": 28
        }
      ]
    },
    {
      "cell_type": "code",
      "source": [
        "listArray.shape"
      ],
      "metadata": {
        "colab": {
          "base_uri": "https://localhost:8080/"
        },
        "id": "UELH_jxiI4h4",
        "outputId": "eb636ba1-e1ed-4c00-b56c-5c3db9817df7"
      },
      "execution_count": null,
      "outputs": [
        {
          "output_type": "execute_result",
          "data": {
            "text/plain": [
              "(3, 3)"
            ]
          },
          "metadata": {},
          "execution_count": 29
        }
      ]
    },
    {
      "cell_type": "code",
      "source": [
        "listArray[0]"
      ],
      "metadata": {
        "colab": {
          "base_uri": "https://localhost:8080/"
        },
        "id": "zeWKogAhI5Rl",
        "outputId": "b17352e4-e6a1-4ba5-8725-1cad7de05306"
      },
      "execution_count": null,
      "outputs": [
        {
          "output_type": "execute_result",
          "data": {
            "text/plain": [
              "array([1, 2, 3])"
            ]
          },
          "metadata": {},
          "execution_count": 30
        }
      ]
    },
    {
      "cell_type": "markdown",
      "source": [
        "**Slicing**"
      ],
      "metadata": {
        "id": "BL3ZGTuoJdXu"
      }
    },
    {
      "cell_type": "code",
      "source": [
        "arr2 = listArray[1:2]\n",
        "arr2"
      ],
      "metadata": {
        "colab": {
          "base_uri": "https://localhost:8080/"
        },
        "id": "f1VFmozTI73i",
        "outputId": "2883012a-3659-47b8-d004-3d88ba8f6081"
      },
      "execution_count": null,
      "outputs": [
        {
          "output_type": "execute_result",
          "data": {
            "text/plain": [
              "array([[4, 5, 6]])"
            ]
          },
          "metadata": {},
          "execution_count": 31
        }
      ]
    },
    {
      "cell_type": "code",
      "source": [
        "np.array({12,23,34,23,34})"
      ],
      "metadata": {
        "colab": {
          "base_uri": "https://localhost:8080/"
        },
        "id": "iYYpv5IUI-x0",
        "outputId": "b560d1f3-1186-4909-a4a4-4c3466ca27ca"
      },
      "execution_count": null,
      "outputs": [
        {
          "output_type": "execute_result",
          "data": {
            "text/plain": [
              "array({34, 12, 23}, dtype=object)"
            ]
          },
          "metadata": {},
          "execution_count": 32
        }
      ]
    },
    {
      "cell_type": "markdown",
      "source": [
        "**Linspace used to create an evenly spaced sequence in a specified interval**\n",
        "\n",
        "numpy.linspace(start, stop, num=50, endpoint=True, retstep=False, dtype=None)"
      ],
      "metadata": {
        "id": "H86KT7aYWdnj"
      }
    },
    {
      "cell_type": "code",
      "source": [
        "lspace = np.linspace(1,50,num=50, endpoint=True)\n",
        "lspace"
      ],
      "metadata": {
        "colab": {
          "base_uri": "https://localhost:8080/"
        },
        "id": "fx0qFkOcJ6Ov",
        "outputId": "8fb01fa2-f193-4f38-cfb8-bb7d66f64e14"
      },
      "execution_count": null,
      "outputs": [
        {
          "output_type": "execute_result",
          "data": {
            "text/plain": [
              "array([ 1.,  2.,  3.,  4.,  5.,  6.,  7.,  8.,  9., 10., 11., 12., 13.,\n",
              "       14., 15., 16., 17., 18., 19., 20., 21., 22., 23., 24., 25., 26.,\n",
              "       27., 28., 29., 30., 31., 32., 33., 34., 35., 36., 37., 38., 39.,\n",
              "       40., 41., 42., 43., 44., 45., 46., 47., 48., 49., 50.])"
            ]
          },
          "metadata": {},
          "execution_count": 33
        }
      ]
    },
    {
      "cell_type": "code",
      "source": [
        "lspace,step_size= np.linspace(1,5,num=3,retstep=True)\n",
        "lspace"
      ],
      "metadata": {
        "id": "xNi06SiJPCrr",
        "colab": {
          "base_uri": "https://localhost:8080/"
        },
        "outputId": "7e3d30bf-204c-4078-9fa3-5f361e098ca9"
      },
      "execution_count": null,
      "outputs": [
        {
          "output_type": "execute_result",
          "data": {
            "text/plain": [
              "array([1., 3., 5.])"
            ]
          },
          "metadata": {},
          "execution_count": 34
        }
      ]
    },
    {
      "cell_type": "code",
      "source": [
        "step_size"
      ],
      "metadata": {
        "colab": {
          "base_uri": "https://localhost:8080/"
        },
        "id": "4qBgwO43aC2k",
        "outputId": "80812204-4a76-4293-9cf1-6236f7499330"
      },
      "execution_count": null,
      "outputs": [
        {
          "output_type": "execute_result",
          "data": {
            "text/plain": [
              "2.0"
            ]
          },
          "metadata": {},
          "execution_count": 35
        }
      ]
    },
    {
      "cell_type": "markdown",
      "source": [
        "**Difference between empty and random**"
      ],
      "metadata": {
        "id": "pq-Ik_zLeqNq"
      }
    },
    {
      "cell_type": "code",
      "source": [
        "emp = np.empty([4,6])\n",
        "emp"
      ],
      "metadata": {
        "colab": {
          "base_uri": "https://localhost:8080/"
        },
        "id": "nfawFiHGamgn",
        "outputId": "10db629a-aee9-4648-b647-26cf1ac75778"
      },
      "execution_count": null,
      "outputs": [
        {
          "output_type": "execute_result",
          "data": {
            "text/plain": [
              "array([[0.57585591, 0.97273841, 0.31843687, 0.15441845, 0.77283738,\n",
              "        0.58273414],\n",
              "       [0.85524494, 0.82048971, 0.67479602, 0.12864207, 0.2372585 ,\n",
              "        0.01721193],\n",
              "       [0.4310911 , 0.99150351, 0.66336653, 0.31893803, 0.79580264,\n",
              "        0.07057384],\n",
              "       [0.1093517 , 0.92589929, 0.29453874, 0.31969987, 0.71777346,\n",
              "        0.67129687]])"
            ]
          },
          "metadata": {},
          "execution_count": 36
        }
      ]
    },
    {
      "cell_type": "code",
      "source": [
        "random_array = np.random.rand(4,6)\n",
        "random_array"
      ],
      "metadata": {
        "colab": {
          "base_uri": "https://localhost:8080/"
        },
        "id": "ZM6oyrDEdS_w",
        "outputId": "703c6195-60ae-47ad-cd88-84b7e80f5f8f"
      },
      "execution_count": null,
      "outputs": [
        {
          "output_type": "execute_result",
          "data": {
            "text/plain": [
              "array([[0.78922562, 0.21426148, 0.87209415, 0.8841258 , 0.04375909,\n",
              "        0.92695658],\n",
              "       [0.22049081, 0.46702988, 0.11201155, 0.06924249, 0.05162659,\n",
              "        0.28088316],\n",
              "       [0.04526658, 0.7585499 , 0.57362433, 0.09355723, 0.91770849,\n",
              "        0.31644013],\n",
              "       [0.6934033 , 0.10641131, 0.63287821, 0.78286562, 0.69502596,\n",
              "        0.96427134]])"
            ]
          },
          "metadata": {},
          "execution_count": 37
        }
      ]
    },
    {
      "cell_type": "markdown",
      "source": [
        "**Generate Only 3 random numbers between 1 to 10**"
      ],
      "metadata": {
        "id": "G8rJIXDBeaVD"
      }
    },
    {
      "cell_type": "code",
      "source": [
        "random_array = np.random.randint(1, 10, 3)\n",
        "random_array"
      ],
      "metadata": {
        "colab": {
          "base_uri": "https://localhost:8080/"
        },
        "id": "NRV94QCydtho",
        "outputId": "dd4dc4b3-a56d-48e6-dc8b-698b3a5535e9"
      },
      "execution_count": null,
      "outputs": [
        {
          "output_type": "execute_result",
          "data": {
            "text/plain": [
              "array([9, 9, 6])"
            ]
          },
          "metadata": {},
          "execution_count": 38
        }
      ]
    },
    {
      "cell_type": "markdown",
      "source": [
        "**Indexing in 2D Array**"
      ],
      "metadata": {
        "id": "mwBDMaaWqI0a"
      }
    },
    {
      "cell_type": "code",
      "source": [
        "arr1 = np.array([\n",
        "    [1, 2, 3],\n",
        "    [4, 5, 6],\n",
        "    [7, 8, 9]\n",
        "])\n",
        "\n",
        "type(arr1)"
      ],
      "metadata": {
        "colab": {
          "base_uri": "https://localhost:8080/"
        },
        "id": "ZDOsV8vRjrxF",
        "outputId": "06fcd6c0-b219-49ff-b053-722c50b671f5"
      },
      "execution_count": null,
      "outputs": [
        {
          "output_type": "execute_result",
          "data": {
            "text/plain": [
              "numpy.ndarray"
            ]
          },
          "metadata": {},
          "execution_count": 39
        }
      ]
    },
    {
      "cell_type": "code",
      "source": [
        "arr1[:,2]"
      ],
      "metadata": {
        "colab": {
          "base_uri": "https://localhost:8080/"
        },
        "id": "mf3JmZDWpEUd",
        "outputId": "e27a8c64-56bb-4d45-8209-4157685149be"
      },
      "execution_count": null,
      "outputs": [
        {
          "output_type": "execute_result",
          "data": {
            "text/plain": [
              "array([3, 6, 9])"
            ]
          },
          "metadata": {},
          "execution_count": 40
        }
      ]
    },
    {
      "cell_type": "code",
      "source": [
        "arr1[1:,1:]"
      ],
      "metadata": {
        "colab": {
          "base_uri": "https://localhost:8080/"
        },
        "id": "9-Vh3JvFqfnB",
        "outputId": "c49de35c-4d4f-4900-de2c-2acde67e60ed"
      },
      "execution_count": null,
      "outputs": [
        {
          "output_type": "execute_result",
          "data": {
            "text/plain": [
              "array([[5, 6],\n",
              "       [8, 9]])"
            ]
          },
          "metadata": {},
          "execution_count": 41
        }
      ]
    },
    {
      "cell_type": "code",
      "source": [],
      "metadata": {
        "id": "RF6CUAreUn5Z"
      },
      "execution_count": null,
      "outputs": []
    }
  ]
}